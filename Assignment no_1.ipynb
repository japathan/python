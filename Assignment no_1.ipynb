{
 "cells": [
  {
   "cell_type": "code",
   "execution_count": 1,
   "id": "9cd3a3cc",
   "metadata": {},
   "outputs": [
    {
     "name": "stdout",
     "output_type": "stream",
     "text": [
      "FIRST ARRAY:\n",
      "[[0.34491388 0.15108265 0.68885536]\n",
      " [0.78163519 0.72188429 0.200316  ]\n",
      " [0.85923351 0.9763561  0.90770599]\n",
      " [0.23352917 0.6397436  0.71567468]\n",
      " [0.25090559 0.21829775 0.72328852]]\n",
      "SECOND ARRAY:\n",
      "[[0.98441562 0.25242537]\n",
      " [0.20566965 0.16469078]\n",
      " [0.66613816 0.84118736]]\n",
      "Dot Product of Two Array is:\n",
      "[[0.82948457 0.69140335]\n",
      " [1.05136172 0.48469552]\n",
      " [1.65130731 1.14123999]\n",
      " [0.83820382 0.76632505]\n",
      " [0.77370269 0.70770772]]\n"
     ]
    }
   ],
   "source": [
    "import numpy as np\n",
    "x=np.random.random((5,3))\n",
    "print(\"FIRST ARRAY:\")\n",
    "print(x)\n",
    "import numpy as np\n",
    "y=np.random.random((3,2))\n",
    "print(\"SECOND ARRAY:\")\n",
    "print(y)\n",
    "print(\"Dot Product of Two Array is:\")\n",
    "z = np.dot(x,y)\n",
    "print(z)"
   ]
  },
  {
   "cell_type": "code",
   "execution_count": 2,
   "id": "7ccfd369",
   "metadata": {},
   "outputs": [
    {
     "name": "stdout",
     "output_type": "stream",
     "text": [
      "\n",
      " Origional Array :\n",
      "\n",
      "['Python', 'PHP', 'JS', 'Examples', 'html5', '5']\n",
      "\n",
      " IS DIGIT CASES ONLY IN Array :\n",
      "\n",
      "False,False,False,False,False,True,\n",
      " IS LOWER CASES ONLY IN Array :\n",
      "\n",
      "False,False,False,False,True,False,\n",
      " IS UPPER CASES ONLY IN Array :\n",
      "\n",
      "False,True,True,False,False,False,"
     ]
    }
   ],
   "source": [
    "import numpy as np\n",
    "print('\\n Origional Array :\\n')\n",
    "array=['Python','PHP','JS','Examples','html5','5']\n",
    "print(array)\n",
    "print('\\n IS DIGIT CASES ONLY IN Array :\\n')\n",
    "for x in array:\n",
    "       print(x.isdigit(), end=\",\")\n",
    "print('\\n IS LOWER CASES ONLY IN Array :\\n')\n",
    "for x in array:\n",
    "       print(x.islower(), end=\",\")\n",
    "print('\\n IS UPPER CASES ONLY IN Array :\\n')\n",
    "for x in array:\n",
    "       print(x.isupper(), end=\",\")"
   ]
  },
  {
   "cell_type": "code",
   "execution_count": 3,
   "id": "960e702e",
   "metadata": {},
   "outputs": [
    {
     "name": "stdout",
     "output_type": "stream",
     "text": [
      "\n",
      " Origional Array is:\n",
      "\n",
      "[[0 0 0 0]\n",
      " [0 0 0 0]\n",
      " [0 0 0 0]\n",
      " [0 0 0 0]]\n",
      "\n",
      " Modified array is\n",
      "\n",
      "[0 0 0 0 0 0 0 0 0 0 0 0 0 0 0 0]\n"
     ]
    }
   ],
   "source": [
    "import numpy as np\n",
    "X=np.array([1,2,3,4,5,6,7,8,9,10,11,12,13,14,15,16]).reshape(4,4)\n",
    "Y=np.array([1,2,3,4,5,6,7,8,9,10,11,12,13,14,15,16]).reshape(4,4)\n",
    "np3=np.subtract(X,Y)\n",
    "print(\"\\n Origional Array is:\\n\")\n",
    "print(np3)\n",
    "\n",
    "np3=np.reshape(np3,16)\n",
    "print(\"\\n Modified array is\\n\")\n",
    "print(np3)"
   ]
  },
  {
   "cell_type": "code",
   "execution_count": 4,
   "id": "d836f5da",
   "metadata": {},
   "outputs": [
    {
     "name": "stdout",
     "output_type": "stream",
     "text": [
      "[[23 56 87]\n",
      " [ 3  6 96]\n",
      " [ 4  6 78]]\n",
      "[[12 34 54]\n",
      " [ 7  2 54]\n",
      " [ 6  2 78]]\n",
      "[[11 22 33]\n",
      " [-4  4 42]\n",
      " [-2  4  0]]\n"
     ]
    }
   ],
   "source": [
    "import numpy as np\n",
    "import pandas as pd\n",
    "P=np.array([23,56,87,3,6,96,4,6,78]).reshape(3,3)\n",
    "print(P)\n",
    "Q=np.array([12,34,54,7,2,54,6,2,78]).reshape(3,3)\n",
    "print(Q)\n",
    "print(P-Q)\n"
   ]
  },
  {
   "cell_type": "code",
   "execution_count": null,
   "id": "c135a44f",
   "metadata": {},
   "outputs": [],
   "source": []
  }
 ],
 "metadata": {
  "kernelspec": {
   "display_name": "Python 3 (ipykernel)",
   "language": "python",
   "name": "python3"
  },
  "language_info": {
   "codemirror_mode": {
    "name": "ipython",
    "version": 3
   },
   "file_extension": ".py",
   "mimetype": "text/x-python",
   "name": "python",
   "nbconvert_exporter": "python",
   "pygments_lexer": "ipython3",
   "version": "3.9.12"
  }
 },
 "nbformat": 4,
 "nbformat_minor": 5
}
